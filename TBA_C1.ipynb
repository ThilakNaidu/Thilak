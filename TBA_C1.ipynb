{
 "cells": [
  {
   "cell_type": "code",
   "execution_count": 2,
   "id": "fff1fc9d",
   "metadata": {},
   "outputs": [
    {
     "name": "stdout",
     "output_type": "stream",
     "text": [
      "Hello\n"
     ]
    }
   ],
   "source": [
<<<<<<< HEAD
    "# printing the string a\n",
=======
>>>>>>> da925a4c3077dbdba85decdb2abd8edabe766db3
    "a=\"Hello\"\n",
    "print(a)"
   ]
  },
  {
   "cell_type": "code",
   "execution_count": 31,
   "id": "74130bc2",
   "metadata": {},
   "outputs": [
    {
     "name": "stdout",
     "output_type": "stream",
     "text": [
      "e\n",
      "llo\n"
     ]
    }
   ],
   "source": [
<<<<<<< HEAD
    "# spliting string by indexes\n",
=======
>>>>>>> da925a4c3077dbdba85decdb2abd8edabe766db3
    "a=\"Hello, World!\"\n",
    "print(a[1])\n",
    "b=\"Hello, World!\"\n",
    "print(b[2:5])"
   ]
  },
  {
   "cell_type": "code",
   "execution_count": 4,
   "id": "0b0cedae",
   "metadata": {},
   "outputs": [
    {
     "name": "stdout",
     "output_type": "stream",
     "text": [
      "13\n",
      "HELLO, WORLD!\n",
      "hello, world!\n",
      "Jello, World!\n"
     ]
    }
   ],
   "source": [
<<<<<<< HEAD
    "# applying length, upper, lower, replace functions on string a\n",
=======
>>>>>>> da925a4c3077dbdba85decdb2abd8edabe766db3
    "a=\"Hello, World!\"\n",
    "print(len(a))\n",
    "print(a.upper())\n",
    "print(a.lower())\n",
    "print(a.replace(\"H\",\"J\"))"
   ]
  },
  {
   "cell_type": "code",
   "execution_count": 6,
   "id": "1cf0fd43",
   "metadata": {},
   "outputs": [
    {
     "data": {
      "text/plain": [
       "'Hello World'"
      ]
     },
     "execution_count": 6,
     "metadata": {},
     "output_type": "execute_result"
    }
   ],
   "source": [
<<<<<<< HEAD
    "# concating the string a and b to c\n",
=======
>>>>>>> da925a4c3077dbdba85decdb2abd8edabe766db3
    "a=\"Hello\"\n",
    "b=\"World\"\n",
    "c=a+\" \"+b\n",
    "c"
   ]
  },
  {
   "cell_type": "code",
   "execution_count": 7,
   "id": "306dd839",
   "metadata": {},
   "outputs": [
    {
     "data": {
      "text/plain": [
       "['One', 'two', 'three', 'four']"
      ]
     },
     "execution_count": 7,
     "metadata": {},
     "output_type": "execute_result"
    }
   ],
   "source": [
<<<<<<< HEAD
    "# spliting my_string by space and storing to list named word_list\n",
=======
>>>>>>> da925a4c3077dbdba85decdb2abd8edabe766db3
    "my_string=\"One two three four\"\n",
    "word_list=my_string.split()\n",
    "word_list"
   ]
  },
  {
   "cell_type": "code",
   "execution_count": 8,
   "id": "2691492d",
   "metadata": {},
   "outputs": [
    {
     "data": {
      "text/plain": [
       "['1', '2', '3', '4', '5']"
      ]
     },
     "execution_count": 8,
     "metadata": {},
     "output_type": "execute_result"
    }
   ],
   "source": [
<<<<<<< HEAD
    "# spliting my_string by / and storing to list named num_list\n",
=======
>>>>>>> da925a4c3077dbdba85decdb2abd8edabe766db3
    "my_string=\"1/2/3/4/5\"\n",
    "num_list=my_string.split('/')\n",
    "num_list"
   ]
  },
  {
   "cell_type": "code",
   "execution_count": 10,
   "id": "c0f8ba2c",
   "metadata": {},
   "outputs": [
    {
     "data": {
      "text/plain": [
       "['One', 'two', 'three', 'four']"
      ]
     },
     "execution_count": 10,
     "metadata": {},
     "output_type": "execute_result"
    }
   ],
   "source": [
<<<<<<< HEAD
    "# spliting my_string by space and storing to list named word_list\n",
=======
>>>>>>> da925a4c3077dbdba85decdb2abd8edabe766db3
    "my_string=\"One two three    four\"\n",
    "word_list=my_string.split()\n",
    "word_list"
   ]
  },
  {
   "cell_type": "code",
   "execution_count": 11,
   "id": "8e9ddf7c",
   "metadata": {},
   "outputs": [
    {
     "data": {
      "text/plain": [
       "'peach raspberry strawberry vanilla'"
      ]
     },
     "execution_count": 11,
     "metadata": {},
     "output_type": "execute_result"
    }
   ],
   "source": [
<<<<<<< HEAD
    "# spliting new_string by space and storing to new_string\n",
=======
>>>>>>> da925a4c3077dbdba85decdb2abd8edabe766db3
    "new_string='peach raspberry strawberry vanilla'\n",
    "new_list=new_string.split()\n",
    "new_string"
   ]
  },
  {
   "cell_type": "code",
   "execution_count": 13,
   "id": "82d3a3a6",
   "metadata": {},
   "outputs": [
    {
     "data": {
      "text/plain": [
       "['35', '67', '89', '98', '8', '7']"
      ]
     },
     "execution_count": 13,
     "metadata": {},
     "output_type": "execute_result"
    }
   ],
   "source": [
<<<<<<< HEAD
    "# spliting num by ; and storing to sep\n",
=======
>>>>>>> da925a4c3077dbdba85decdb2abd8edabe766db3
    "num='35;67;89;98;8;7'\n",
    "sep=num.split(';')\n",
    "sep"
   ]
  },
  {
   "cell_type": "code",
   "execution_count": 14,
   "id": "cbe0ac99",
   "metadata": {},
   "outputs": [
    {
     "data": {
      "text/plain": [
       "'Hello - world'"
      ]
     },
     "execution_count": 14,
     "metadata": {},
     "output_type": "execute_result"
    }
   ],
   "source": [
<<<<<<< HEAD
    "# lstrip removes the spaces at left side of string \n",
=======
>>>>>>> da925a4c3077dbdba85decdb2abd8edabe766db3
    "str=' Hello - world'\n",
    "str.lstrip()"
   ]
  },
  {
   "cell_type": "code",
   "execution_count": 15,
   "id": "c561209b",
   "metadata": {},
   "outputs": [
    {
     "data": {
      "text/plain": [
       "' Hello - world'"
      ]
     },
     "execution_count": 15,
     "metadata": {},
     "output_type": "execute_result"
    }
   ],
   "source": [
<<<<<<< HEAD
    "# rstrip removes the spaces at right side of string \n",
=======
>>>>>>> da925a4c3077dbdba85decdb2abd8edabe766db3
    "str=' Hello - world     '\n",
    "str.rstrip()"
   ]
  },
  {
   "cell_type": "code",
   "execution_count": 18,
   "id": "52921dee",
   "metadata": {},
   "outputs": [
    {
     "data": {
      "text/plain": [
       "'Hello - world'"
      ]
     },
     "execution_count": 18,
     "metadata": {},
     "output_type": "execute_result"
    }
   ],
   "source": [
<<<<<<< HEAD
    "# strip() removes the spaces at both sides of string \n",
=======
>>>>>>> da925a4c3077dbdba85decdb2abd8edabe766db3
    "str=' Hello - world '\n",
    "str.strip()"
   ]
  },
  {
   "cell_type": "code",
   "execution_count": 21,
   "id": "2425e8ff",
   "metadata": {},
   "outputs": [
    {
     "data": {
      "text/plain": [
       "True"
      ]
     },
     "execution_count": 21,
     "metadata": {},
     "output_type": "execute_result"
    }
   ],
   "source": [
<<<<<<< HEAD
    "# isalnum() checks string has numeric and aplhabets present \n",
=======
>>>>>>> da925a4c3077dbdba85decdb2abd8edabe766db3
    "str='12hello'\n",
    "str.isalnum()"
   ]
  },
  {
   "cell_type": "code",
   "execution_count": 22,
   "id": "63299547",
   "metadata": {},
   "outputs": [
    {
     "data": {
      "text/plain": [
       "False"
      ]
     },
     "execution_count": 22,
     "metadata": {},
     "output_type": "execute_result"
    }
   ],
   "source": [
<<<<<<< HEAD
    "# isalpha() checks string contains only aplhabets or not\n",
=======
>>>>>>> da925a4c3077dbdba85decdb2abd8edabe766db3
    "str='12hello'\n",
    "str.isalpha()"
   ]
  },
  {
   "cell_type": "code",
   "execution_count": 23,
   "id": "2e9a8234",
   "metadata": {},
   "outputs": [
    {
     "data": {
      "text/plain": [
       "False"
      ]
     },
     "execution_count": 23,
     "metadata": {},
     "output_type": "execute_result"
    }
   ],
   "source": [
<<<<<<< HEAD
    "# isdigit() checks string contains only numeric or not\n",
=======
>>>>>>> da925a4c3077dbdba85decdb2abd8edabe766db3
    "str='12hello'\n",
    "str.isdigit()"
   ]
  },
  {
   "cell_type": "code",
   "execution_count": 24,
   "id": "8b0819b4",
   "metadata": {},
   "outputs": [
    {
     "data": {
      "text/plain": [
       "True"
      ]
     },
     "execution_count": 24,
     "metadata": {},
     "output_type": "execute_result"
    }
   ],
   "source": [
<<<<<<< HEAD
    "# islower() checks string is in lowercase or not\n",
=======
>>>>>>> da925a4c3077dbdba85decdb2abd8edabe766db3
    "str='12hello'\n",
    "str.islower()"
   ]
  },
  {
   "cell_type": "code",
   "execution_count": 25,
   "id": "92ce3667",
   "metadata": {},
   "outputs": [
    {
     "data": {
      "text/plain": [
       "False"
      ]
     },
     "execution_count": 25,
     "metadata": {},
     "output_type": "execute_result"
    }
   ],
   "source": [
<<<<<<< HEAD
    "# isupper() checks string is in uppercase or not\n",
=======
>>>>>>> da925a4c3077dbdba85decdb2abd8edabe766db3
    "str='12hello'\n",
    "str.isupper()"
   ]
  },
  {
   "cell_type": "code",
   "execution_count": 26,
   "id": "8fa3d76c",
   "metadata": {},
   "outputs": [
    {
     "data": {
      "text/plain": [
       "False"
      ]
     },
     "execution_count": 26,
     "metadata": {},
     "output_type": "execute_result"
    }
   ],
   "source": [
<<<<<<< HEAD
    "# isspace() checks string has space or not\n",
=======
>>>>>>> da925a4c3077dbdba85decdb2abd8edabe766db3
    "str='12hello'\n",
    "str.isspace()"
   ]
  },
  {
   "cell_type": "code",
   "execution_count": null,
   "id": "15d832eb",
   "metadata": {},
   "outputs": [],
   "source": []
  }
 ],
 "metadata": {
  "kernelspec": {
   "display_name": "Python 3 (ipykernel)",
   "language": "python",
   "name": "python3"
  },
  "language_info": {
   "codemirror_mode": {
    "name": "ipython",
    "version": 3
   },
   "file_extension": ".py",
   "mimetype": "text/x-python",
   "name": "python",
   "nbconvert_exporter": "python",
   "pygments_lexer": "ipython3",
   "version": "3.11.5"
  }
 },
 "nbformat": 4,
 "nbformat_minor": 5
}
