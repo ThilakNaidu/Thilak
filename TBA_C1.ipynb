{
 "cells": [
  {
   "cell_type": "markdown",
   "id": "8a32b6b7",
   "metadata": {},
   "source": [
    "# Basic String Operations"
   ]
  },
  {
   "cell_type": "code",
   "execution_count": 1,
   "id": "4196e837",
   "metadata": {},
   "outputs": [
    {
     "name": "stdout",
     "output_type": "stream",
     "text": [
      "Hello\n"
     ]
    }
   ],
   "source": [
    "# printing the string a\n",
    "a=\"Hello\"\n",
    "print(a)"
   ]
  },
  {
   "cell_type": "markdown",
   "id": "2b18adda",
   "metadata": {},
   "source": [
    "## Slice Operation"
   ]
  },
  {
   "cell_type": "code",
   "execution_count": 2,
   "id": "74130bc2",
   "metadata": {},
   "outputs": [
    {
     "name": "stdout",
     "output_type": "stream",
     "text": [
      "e\n",
      "llo\n"
     ]
    }
   ],
   "source": [
    "# spliting string a by indexes\n",
    "a=\"Hello, World!\"\n",
    "print(a[1])\n",
    "b=\"Hello, World!\"\n",
    "print(b[2:5])"
   ]
  },
  {
   "cell_type": "markdown",
   "id": "fa40c758",
   "metadata": {},
   "source": [
    "## Length, Uppercase, Lowercase, Replace Operations on String"
   ]
  },
  {
   "cell_type": "code",
   "execution_count": 4,
   "id": "0b0cedae",
   "metadata": {},
   "outputs": [
    {
     "name": "stdout",
     "output_type": "stream",
     "text": [
      "13\n",
      "HELLO, WORLD!\n",
      "hello, world!\n",
      "Jello, World!\n"
     ]
    }
   ],
   "source": [
    "# applying length, upper, lower, replace functions on string a\n",
    "a=\"Hello, World!\"\n",
    "print(len(a))\n",
    "print(a.upper())\n",
    "print(a.lower())\n",
    "print(a.replace(\"H\",\"J\"))"
   ]
  },
  {
   "cell_type": "markdown",
   "id": "e23f1613",
   "metadata": {},
   "source": [
    "## String Concatenation"
   ]
  },
  {
   "cell_type": "code",
   "execution_count": 5,
   "id": "1cf0fd43",
   "metadata": {},
   "outputs": [
    {
     "data": {
      "text/plain": [
       "'Hello World'"
      ]
     },
     "execution_count": 5,
     "metadata": {},
     "output_type": "execute_result"
    }
   ],
   "source": [
    "# concating the string a and b to c\n",
    "a=\"Hello\"\n",
    "b=\"World\"\n",
    "c=a+\" \"+b\n",
    "c"
   ]
  },
  {
   "cell_type": "markdown",
   "id": "eee741bc",
   "metadata": {},
   "source": [
    "## Few Examples on Slicing Operation"
   ]
  },
  {
   "cell_type": "code",
   "execution_count": 6,
   "id": "306dd839",
   "metadata": {},
   "outputs": [
    {
     "data": {
      "text/plain": [
       "['One', 'two', 'three', 'four']"
      ]
     },
     "execution_count": 6,
     "metadata": {},
     "output_type": "execute_result"
    }
   ],
   "source": [
    "# spliting my_string by space and storing to list named word_list\n",
    "my_string=\"One two three four\"\n",
    "word_list=my_string.split()\n",
    "word_list"
   ]
  },
  {
   "cell_type": "code",
   "execution_count": 7,
   "id": "2691492d",
   "metadata": {},
   "outputs": [
    {
     "data": {
      "text/plain": [
       "['1', '2', '3', '4', '5']"
      ]
     },
     "execution_count": 7,
     "metadata": {},
     "output_type": "execute_result"
    }
   ],
   "source": [
    "# spliting my_string by / and storing to list named num_list\n",
    "my_string=\"1/2/3/4/5\"\n",
    "num_list=my_string.split('/')\n",
    "num_list"
   ]
  },
  {
   "cell_type": "code",
   "execution_count": 8,
   "id": "c0f8ba2c",
   "metadata": {},
   "outputs": [
    {
     "data": {
      "text/plain": [
       "['One', 'two', 'three', 'four']"
      ]
     },
     "execution_count": 8,
     "metadata": {},
     "output_type": "execute_result"
    }
   ],
   "source": [
    "# spliting my_string by space and storing to list named word_list\n",
    "my_string=\"One two three    four\"\n",
    "word_list=my_string.split()\n",
    "word_list"
   ]
  },
  {
   "cell_type": "code",
   "execution_count": 9,
   "id": "8e9ddf7c",
   "metadata": {},
   "outputs": [
    {
     "data": {
      "text/plain": [
       "'peach raspberry strawberry vanilla'"
      ]
     },
     "execution_count": 9,
     "metadata": {},
     "output_type": "execute_result"
    }
   ],
   "source": [
    "# spliting new_string by space and storing to new_string\n",
    "new_string='peach raspberry strawberry vanilla'\n",
    "new_list=new_string.split()\n",
    "new_string"
   ]
  },
  {
   "cell_type": "code",
   "execution_count": 11,
   "id": "30e8b247",
   "metadata": {},
   "outputs": [
    {
     "data": {
      "text/plain": [
       "['1', '2', '3', '4', '5']"
      ]
     },
     "execution_count": 11,
     "metadata": {},
     "output_type": "execute_result"
    }
   ],
   "source": [
    "# spliting my_string by - and storing to list named my_list\n",
    "my_string=\"1-2-3-4-5\"\n",
    "my_list=my_string.split('-')\n",
    "my_list"
   ]
  },
  {
   "cell_type": "markdown",
   "id": "0e9f3da1",
   "metadata": {},
   "source": [
    "## Search  Operation"
   ]
  },
  {
   "cell_type": "code",
   "execution_count": 12,
   "id": "dd6e673b",
   "metadata": {},
   "outputs": [
    {
     "name": "stdout",
     "output_type": "stream",
     "text": [
      "True\n"
     ]
    }
   ],
   "source": [
    "# Checking if the String Ends with d\n",
    "a=\"Hello,world\"\n",
    "print(a.endswith(\"d\"))"
   ]
  },
  {
   "cell_type": "code",
   "execution_count": 15,
   "id": "0eacf512",
   "metadata": {},
   "outputs": [
    {
     "name": "stdout",
     "output_type": "stream",
     "text": [
      "1\n"
     ]
    }
   ],
   "source": [
    "# Searching for Substring within string \n",
    "a=\"Hello, world\"\n",
    "print(a.find(\"ello\"))"
   ]
  },
  {
   "cell_type": "markdown",
   "id": "8ebe3972",
   "metadata": {},
   "source": [
    "## Strip Operation"
   ]
  },
  {
   "cell_type": "code",
   "execution_count": 16,
   "id": "cbe0ac99",
   "metadata": {},
   "outputs": [
    {
     "data": {
      "text/plain": [
       "'Hello - world'"
      ]
     },
     "execution_count": 16,
     "metadata": {},
     "output_type": "execute_result"
    }
   ],
   "source": [
    "# lstrip removes the spaces at left side of string \n",
    "str='---------Hello - world'\n",
    "str.lstrip(\"-\")"
   ]
  },
  {
   "cell_type": "code",
   "execution_count": 19,
   "id": "c561209b",
   "metadata": {},
   "outputs": [
    {
     "data": {
      "text/plain": [
       "' Hello - world'"
      ]
     },
     "execution_count": 19,
     "metadata": {},
     "output_type": "execute_result"
    }
   ],
   "source": [
    "# rstrip removes the spaces at right side of string \n",
    "str=' Hello - world     '\n",
    "str.rstrip()"
   ]
  },
  {
   "cell_type": "code",
   "execution_count": 18,
   "id": "52921dee",
   "metadata": {},
   "outputs": [
    {
     "data": {
      "text/plain": [
       "'Hello - world'"
      ]
     },
     "execution_count": 18,
     "metadata": {},
     "output_type": "execute_result"
    }
   ],
   "source": [
    "# strip() removes the spaces at both sides of string \n",
    "str='***Hello - world***'\n",
    "str.strip(\"*\")"
   ]
  },
  {
   "cell_type": "markdown",
   "id": "49e1588a",
   "metadata": {},
   "source": [
    "## String Methods"
   ]
  },
  {
   "cell_type": "code",
   "execution_count": null,
   "id": "2425e8ff",
   "metadata": {},
   "outputs": [],
   "source": [
    "# isalnum() checks string has numeric and aplhabets present \n",
    "str='12hello'\n",
    "str.isalnum()"
   ]
  },
  {
   "cell_type": "code",
   "execution_count": null,
   "id": "63299547",
   "metadata": {},
   "outputs": [],
   "source": [
    "# isalpha() checks string contains only aplhabets or not\n",
    "str='12hello'\n",
    "str.isalpha()"
   ]
  },
  {
   "cell_type": "code",
   "execution_count": null,
   "id": "2e9a8234",
   "metadata": {},
   "outputs": [],
   "source": [
    "# isdigit() checks string contains only numeric or not\n",
    "str='12hello'\n",
    "str.isdigit()"
   ]
  },
  {
   "cell_type": "code",
   "execution_count": null,
   "id": "8b0819b4",
   "metadata": {},
   "outputs": [],
   "source": [
    "# islower() checks string is in lowercase or not\n",
    "str='12hello'\n",
    "str.islower()"
   ]
  },
  {
   "cell_type": "code",
   "execution_count": null,
   "id": "92ce3667",
   "metadata": {},
   "outputs": [],
   "source": [
    "# isupper() checks string is in uppercase or not\n",
    "str='12hello'\n",
    "str.isupper()"
   ]
  },
  {
   "cell_type": "code",
   "execution_count": null,
   "id": "8fa3d76c",
   "metadata": {},
   "outputs": [],
   "source": [
    "# isspace() checks string has space or not\n",
    "str='12hello'\n",
    "str.isspace()"
   ]
  }
 ],
 "metadata": {
  "kernelspec": {
   "display_name": "Python 3 (ipykernel)",
   "language": "python",
   "name": "python3"
  },
  "language_info": {
   "codemirror_mode": {
    "name": "ipython",
    "version": 3
   },
   "file_extension": ".py",
   "mimetype": "text/x-python",
   "name": "python",
   "nbconvert_exporter": "python",
   "pygments_lexer": "ipython3",
   "version": "3.11.5"
  }
 },
 "nbformat": 4,
 "nbformat_minor": 5
}
