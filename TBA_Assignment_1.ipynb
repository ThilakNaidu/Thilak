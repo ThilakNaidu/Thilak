{
 "cells": [
  {
   "cell_type": "markdown",
   "id": "e54b1698",
   "metadata": {},
   "source": [
    "# Assignment1: Basic String Operations"
   ]
  },
  {
   "cell_type": "code",
   "execution_count": 1,
   "id": "fd0cc08f",
   "metadata": {},
   "outputs": [
    {
     "name": "stdout",
     "output_type": "stream",
     "text": [
      "Python\n"
     ]
    }
   ],
   "source": [
    "# printing the string a\n",
    "a=\"Python\"\n",
    "print(a)"
   ]
  },
  {
   "cell_type": "markdown",
   "id": "8c483abf",
   "metadata": {},
   "source": [
    "## Slice Operation"
   ]
  },
  {
   "cell_type": "code",
   "execution_count": 2,
   "id": "7dec699b",
   "metadata": {},
   "outputs": [
    {
     "name": "stdout",
     "output_type": "stream",
     "text": [
      "t\n",
      "xt Base\n"
     ]
    }
   ],
   "source": [
    "# spliting string a by indexes\n",
    "a=\"Text Based Analysis\"\n",
    "print(a[3])\n",
    "b=\"Text Based Analysis\"\n",
    "print(b[2:9])"
   ]
  },
  {
   "cell_type": "markdown",
   "id": "778d24f5",
   "metadata": {},
   "source": [
    "# Length, Uppercase, Lowercase, Replace Operations on String"
   ]
  },
  {
   "cell_type": "code",
   "execution_count": 3,
   "id": "c43b1866",
   "metadata": {},
   "outputs": [
    {
     "name": "stdout",
     "output_type": "stream",
     "text": [
      "19\n",
      "TEXT BASED ANALYSIS\n",
      "text based analysis\n",
      "Text Based Analysis\n"
     ]
    }
   ],
   "source": [
    "# applying length, upper, lower, replace functions on string a\n",
    "a=\"Text Based Analysis\"\n",
    "print(len(a))\n",
    "print(a.upper())\n",
    "print(a.lower())\n",
    "print(a.replace(\"H\",\"J\"))"
   ]
  },
  {
   "cell_type": "markdown",
   "id": "00076470",
   "metadata": {},
   "source": [
    "## String Concatenation"
   ]
  },
  {
   "cell_type": "code",
   "execution_count": 4,
   "id": "89318eb2",
   "metadata": {},
   "outputs": [
    {
     "data": {
      "text/plain": [
       "'Text Based Analysis'"
      ]
     },
     "execution_count": 4,
     "metadata": {},
     "output_type": "execute_result"
    }
   ],
   "source": [
    "# concating the string a and b to c\n",
    "a=\"Text Based\"\n",
    "b=\"Analysis\"\n",
    "c=a+\" \"+b\n",
    "c"
   ]
  },
  {
   "cell_type": "markdown",
   "id": "779e4276",
   "metadata": {},
   "source": [
    "## Few Examples on Slicing Operation"
   ]
  },
  {
   "cell_type": "code",
   "execution_count": 5,
   "id": "9242353c",
   "metadata": {},
   "outputs": [
    {
     "data": {
      "text/plain": [
       "['Text', 'Based', 'Analysis', 'Class']"
      ]
     },
     "execution_count": 5,
     "metadata": {},
     "output_type": "execute_result"
    }
   ],
   "source": [
    "# spliting string by space and storing to list named my_list\n",
    "string=\"Text Based Analysis Class\"\n",
    "my_list=string.split()\n",
    "my_list"
   ]
  },
  {
   "cell_type": "code",
   "execution_count": 6,
   "id": "4fb29dc6",
   "metadata": {},
   "outputs": [
    {
     "data": {
      "text/plain": [
       "['11', '12', '13', '44', '65']"
      ]
     },
     "execution_count": 6,
     "metadata": {},
     "output_type": "execute_result"
    }
   ],
   "source": [
    "# spliting string by / and storing to list named new_list\n",
    "string=\"11/12/13/44/65\"\n",
    "new_list=string.split('/')\n",
    "new_list"
   ]
  },
  {
   "cell_type": "code",
   "execution_count": 7,
   "id": "ce895bc3",
   "metadata": {},
   "outputs": [
    {
     "data": {
      "text/plain": [
       "['Its', 'new', 'subject', 'in', 'this', 'year']"
      ]
     },
     "execution_count": 7,
     "metadata": {},
     "output_type": "execute_result"
    }
   ],
   "source": [
    "# spliting my_string by space and storing to list named word_list\n",
    "my_string=\"Its new subject in this year\"\n",
    "word_list=my_string.split()\n",
    "word_list"
   ]
  },
  {
   "cell_type": "code",
   "execution_count": 8,
   "id": "10208216",
   "metadata": {},
   "outputs": [
    {
     "data": {
      "text/plain": [
       "'Idli vada dosa puri'"
      ]
     },
     "execution_count": 8,
     "metadata": {},
     "output_type": "execute_result"
    }
   ],
   "source": [
    "# spliting new_string by space and storing to new_string\n",
    "new_string='Idli vada dosa puri'\n",
    "new_list=new_string.split()\n",
    "new_string"
   ]
  },
  {
   "cell_type": "markdown",
   "id": "b980e8ab",
   "metadata": {},
   "source": [
    "## Search Operations"
   ]
  },
  {
   "cell_type": "code",
   "execution_count": 9,
   "id": "ac20688f",
   "metadata": {},
   "outputs": [
    {
     "name": "stdout",
     "output_type": "stream",
     "text": [
      "False\n"
     ]
    }
   ],
   "source": [
    "# Checking if the String Ends with T\n",
    "a=\"Text Based Analysis\"\n",
    "print(a.endswith(\"t\"))"
   ]
  },
  {
   "cell_type": "code",
   "execution_count": 10,
   "id": "4ea2e749",
   "metadata": {},
   "outputs": [
    {
     "name": "stdout",
     "output_type": "stream",
     "text": [
      "-1\n"
     ]
    }
   ],
   "source": [
    "# Searching for Substring within string \n",
    "a=\"Text Based Analysis\"\n",
    "print(a.find(\"test\"))"
   ]
  },
  {
   "cell_type": "markdown",
   "id": "ea256c46",
   "metadata": {},
   "source": [
    "## Strip Operations"
   ]
  },
  {
   "cell_type": "code",
   "execution_count": 11,
   "id": "d4fbe0b0",
   "metadata": {},
   "outputs": [
    {
     "data": {
      "text/plain": [
       "'***************Text Based Analysis************'"
      ]
     },
     "execution_count": 11,
     "metadata": {},
     "output_type": "execute_result"
    }
   ],
   "source": [
    "# lstrip removes the spaces at left side of string \n",
    "str='***************Text Based Analysis************'\n",
    "str.lstrip(\"-\")"
   ]
  },
  {
   "cell_type": "code",
   "execution_count": 12,
   "id": "b04c210c",
   "metadata": {},
   "outputs": [
    {
     "data": {
      "text/plain": [
       "'***************Text Based Analysis'"
      ]
     },
     "execution_count": 12,
     "metadata": {},
     "output_type": "execute_result"
    }
   ],
   "source": [
    "# rstrip removes the spaces at right side of string \n",
    "str='***************Text Based Analysis************'\n",
    "str.rstrip(\"*\")"
   ]
  },
  {
   "cell_type": "code",
   "execution_count": 13,
   "id": "06d0d78b",
   "metadata": {},
   "outputs": [
    {
     "data": {
      "text/plain": [
       "'Text Based Analysis'"
      ]
     },
     "execution_count": 13,
     "metadata": {},
     "output_type": "execute_result"
    }
   ],
   "source": [
    "# strip removes the spaces at both sides of string \n",
    "str='***************Text Based Analysis************'\n",
    "str.strip(\"*\")"
   ]
  },
  {
   "cell_type": "markdown",
   "id": "d597a09c",
   "metadata": {},
   "source": [
    "## String Methods"
   ]
  },
  {
   "cell_type": "code",
   "execution_count": 14,
   "id": "3b8ac447",
   "metadata": {},
   "outputs": [
    {
     "data": {
      "text/plain": [
       "True"
      ]
     },
     "execution_count": 14,
     "metadata": {},
     "output_type": "execute_result"
    }
   ],
   "source": [
    "# isalnum() checks string has numeric and aplhabets present \n",
    "str='300Fighters'\n",
    "str.isalnum()"
   ]
  },
  {
   "cell_type": "code",
   "execution_count": 15,
   "id": "2c435de3",
   "metadata": {},
   "outputs": [
    {
     "data": {
      "text/plain": [
       "False"
      ]
     },
     "execution_count": 15,
     "metadata": {},
     "output_type": "execute_result"
    }
   ],
   "source": [
    "# isalpha() checks string contains only aplhabets or not\n",
    "str='300Fighters'\n",
    "str.isalpha()"
   ]
  },
  {
   "cell_type": "code",
   "execution_count": 16,
   "id": "5d348bf8",
   "metadata": {},
   "outputs": [
    {
     "data": {
      "text/plain": [
       "False"
      ]
     },
     "execution_count": 16,
     "metadata": {},
     "output_type": "execute_result"
    }
   ],
   "source": [
    "# isdigit() checks string contains only numeric or not\n",
    "str='300Fighters'\n",
    "str.isdigit()"
   ]
  },
  {
   "cell_type": "code",
   "execution_count": 17,
   "id": "f877e0bd",
   "metadata": {},
   "outputs": [
    {
     "data": {
      "text/plain": [
       "False"
      ]
     },
     "execution_count": 17,
     "metadata": {},
     "output_type": "execute_result"
    }
   ],
   "source": [
    "# islower() checks string is in lowercase or not\n",
    "str='300Fighters'\n",
    "str.islower()"
   ]
  },
  {
   "cell_type": "code",
   "execution_count": 18,
   "id": "1de0a3ce",
   "metadata": {},
   "outputs": [
    {
     "data": {
      "text/plain": [
       "True"
      ]
     },
     "execution_count": 18,
     "metadata": {},
     "output_type": "execute_result"
    }
   ],
   "source": [
    "# islower() checks string is in lowercase or not\n",
    "str='fighters'\n",
    "str.islower()"
   ]
  },
  {
   "cell_type": "code",
   "execution_count": 19,
   "id": "9de90bc1",
   "metadata": {},
   "outputs": [
    {
     "data": {
      "text/plain": [
       "False"
      ]
     },
     "execution_count": 19,
     "metadata": {},
     "output_type": "execute_result"
    }
   ],
   "source": [
    "# isupper() checks string is in uppercase or not\n",
    "str='300Fighters'\n",
    "str.isupper()"
   ]
  },
  {
   "cell_type": "code",
   "execution_count": 20,
   "id": "9ec9d3bb",
   "metadata": {},
   "outputs": [
    {
     "data": {
      "text/plain": [
       "False"
      ]
     },
     "execution_count": 20,
     "metadata": {},
     "output_type": "execute_result"
    }
   ],
   "source": [
    "# isspace() checks string has space or not\n",
    "str='300Fighters'\n",
    "str.isspace()"
   ]
  }
 ],
 "metadata": {
  "kernelspec": {
   "display_name": "Python 3 (ipykernel)",
   "language": "python",
   "name": "python3"
  },
  "language_info": {
   "codemirror_mode": {
    "name": "ipython",
    "version": 3
   },
   "file_extension": ".py",
   "mimetype": "text/x-python",
   "name": "python",
   "nbconvert_exporter": "python",
   "pygments_lexer": "ipython3",
   "version": "3.11.5"
  }
 },
 "nbformat": 4,
 "nbformat_minor": 5
}
