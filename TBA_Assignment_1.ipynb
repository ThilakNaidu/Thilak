{
 "cells": [
  {
   "cell_type": "markdown",
   "id": "e54b1698",
   "metadata": {},
   "source": [
    "# Basic String Operations"
   ]
  },
  {
   "cell_type": "code",
   "execution_count": 1,
   "id": "fd0cc08f",
   "metadata": {},
   "outputs": [
    {
     "name": "stdout",
     "output_type": "stream",
     "text": [
      "Python\n"
     ]
    }
   ],
   "source": [
    "# printing the string a\n",
    "a=\"Python\"\n",
    "print(a)"
   ]
  },
  {
   "cell_type": "markdown",
   "id": "b7a98b24",
   "metadata": {},
   "source": [
    "## Capitalization Operation"
   ]
  },
  {
   "cell_type": "code",
   "execution_count": 2,
   "id": "a702f796",
   "metadata": {},
   "outputs": [
    {
     "name": "stdout",
     "output_type": "stream",
     "text": [
      "Text based analysis\n"
     ]
    }
   ],
   "source": [
    "str = \"text based analysis\"\n",
    "x = str.capitalize() # Turns Firts Element into Capital.\n",
    "print (x)"
   ]
  },
  {
   "cell_type": "markdown",
   "id": "51dab3ba",
   "metadata": {},
   "source": [
    "## Count Operation"
   ]
  },
  {
   "cell_type": "code",
   "execution_count": 3,
   "id": "868be617",
   "metadata": {},
   "outputs": [
    {
     "name": "stdout",
     "output_type": "stream",
     "text": [
      "6\n"
     ]
    }
   ],
   "source": [
    "str = \"text based analysis with python programming language\"\n",
    "x = str.count(\"a\") # Counting a in string\n",
    "print(x)"
   ]
  },
  {
   "cell_type": "markdown",
   "id": "8c483abf",
   "metadata": {},
   "source": [
    "## Slice Operation"
   ]
  },
  {
   "cell_type": "code",
   "execution_count": 4,
   "id": "7dec699b",
   "metadata": {},
   "outputs": [
    {
     "name": "stdout",
     "output_type": "stream",
     "text": [
      "t\n",
      "xt Base\n"
     ]
    }
   ],
   "source": [
    "# spliting string a by indexes\n",
    "a=\"Text Based Analysis\"\n",
    "print(a[3])\n",
    "b=\"Text Based Analysis\"\n",
    "print(b[2:9])"
   ]
  },
  {
   "cell_type": "markdown",
   "id": "395c7e63",
   "metadata": {},
   "source": [
    "## Endswith Operation"
   ]
  },
  {
   "cell_type": "code",
   "execution_count": 5,
   "id": "3a8e9d68",
   "metadata": {},
   "outputs": [
    {
     "name": "stdout",
     "output_type": "stream",
     "text": [
      "True\n"
     ]
    }
   ],
   "source": [
    "str = \"Text Based Analysis subject\"\n",
    "x = str.endswith(\"ct\") # checking if String ends With 'ct'\n",
    "print(x)"
   ]
  },
  {
   "cell_type": "markdown",
   "id": "778d24f5",
   "metadata": {},
   "source": [
    "# Length, Uppercase, Lowercase, Replace Operations on String"
   ]
  },
  {
   "cell_type": "code",
   "execution_count": 6,
   "id": "c43b1866",
   "metadata": {},
   "outputs": [
    {
     "name": "stdout",
     "output_type": "stream",
     "text": [
      "19\n",
      "TEXT BASED ANALYSIS\n",
      "text based analysis\n",
      "Text Based Analysis\n"
     ]
    }
   ],
   "source": [
    "# applying length, upper, lower, replace functions on string a\n",
    "a=\"Text Based Analysis\"\n",
    "print(len(a))\n",
    "print(a.upper())\n",
    "print(a.lower())\n",
    "print(a.replace(\"H\",\"J\"))"
   ]
  },
  {
   "cell_type": "markdown",
   "id": "00076470",
   "metadata": {},
   "source": [
    "## String Concatenation"
   ]
  },
  {
   "cell_type": "code",
   "execution_count": 7,
   "id": "89318eb2",
   "metadata": {},
   "outputs": [
    {
     "data": {
      "text/plain": [
       "'Text Based Analysis'"
      ]
     },
     "execution_count": 7,
     "metadata": {},
     "output_type": "execute_result"
    }
   ],
   "source": [
    "# concating the string a and b to c\n",
    "a=\"Text Based\"\n",
    "b=\"Analysis\"\n",
    "c=a+\" \"+b\n",
    "c"
   ]
  },
  {
   "cell_type": "markdown",
   "id": "a38fc457",
   "metadata": {},
   "source": [
    "## Title Operation"
   ]
  },
  {
   "cell_type": "code",
   "execution_count": 8,
   "id": "c79a6652",
   "metadata": {},
   "outputs": [
    {
     "name": "stdout",
     "output_type": "stream",
     "text": [
      "Text Based Analysis Class\n"
     ]
    }
   ],
   "source": [
    "y = \"text based analysis class\"\n",
    "x = y.title() # Changes the First Letter of Every Word into Upper Case.\n",
    "print(x)"
   ]
  },
  {
   "cell_type": "markdown",
   "id": "34bbf095",
   "metadata": {},
   "source": [
    "## Count Operation"
   ]
  },
  {
   "cell_type": "code",
   "execution_count": 9,
   "id": "4da79df7",
   "metadata": {},
   "outputs": [
    {
     "name": "stdout",
     "output_type": "stream",
     "text": [
      "2\n"
     ]
    }
   ],
   "source": [
    "str = \"Avengers world, Avengers universe\"\n",
    "x = str.count(\"Avengers\") # returns the number of occurrences of a substring in the string.\n",
    "print(x)"
   ]
  },
  {
   "cell_type": "markdown",
   "id": "275f7770",
   "metadata": {},
   "source": [
    "## Center Operation"
   ]
  },
  {
   "cell_type": "code",
   "execution_count": 10,
   "id": "9242353c",
   "metadata": {},
   "outputs": [
    {
     "name": "stdout",
     "output_type": "stream",
     "text": [
      "       python       \n"
     ]
    }
   ],
   "source": [
    "str = \"python\"\n",
    "x = str.center(20) # Gives length of string as 20\n",
    "print(x)"
   ]
  },
  {
   "cell_type": "markdown",
   "id": "b980e8ab",
   "metadata": {},
   "source": [
    "## Search Operation"
   ]
  },
  {
   "cell_type": "code",
   "execution_count": 11,
   "id": "5432b046",
   "metadata": {},
   "outputs": [
    {
     "name": "stdout",
     "output_type": "stream",
     "text": [
      "11\n"
     ]
    }
   ],
   "source": [
    "# find() - Returns the lowest index of the substring if found \n",
    "x=\"Text Based Analysis\"\n",
    "print(x.find(\"Analysis\"))"
   ]
  },
  {
   "cell_type": "markdown",
   "id": "edbf733b",
   "metadata": {},
   "source": [
    "## Endswith Operation"
   ]
  },
  {
   "cell_type": "code",
   "execution_count": 12,
   "id": "ac20688f",
   "metadata": {},
   "outputs": [
    {
     "name": "stdout",
     "output_type": "stream",
     "text": [
      "False\n"
     ]
    }
   ],
   "source": [
    "# Checking if the String Ends with T\n",
    "a=\"Text Based Analysis\"\n",
    "print(a.endswith(\"t\"))"
   ]
  },
  {
   "cell_type": "markdown",
   "id": "a4c5c8d9",
   "metadata": {},
   "source": [
    "## Expandtab Operation"
   ]
  },
  {
   "cell_type": "code",
   "execution_count": 13,
   "id": "c6310ca4",
   "metadata": {},
   "outputs": [
    {
     "name": "stdout",
     "output_type": "stream",
     "text": [
      "Text based  analysis\n"
     ]
    }
   ],
   "source": [
    "string = \"Text based\\tanalysis\"\n",
    "result = string.expandtabs(4)# gives amount of space to be substituted with the \"\\t\" symbol in the string\n",
    "print(result) "
   ]
  },
  {
   "cell_type": "markdown",
   "id": "6db61253",
   "metadata": {},
   "source": [
    "## Join Operation"
   ]
  },
  {
   "cell_type": "code",
   "execution_count": 14,
   "id": "38d31741",
   "metadata": {},
   "outputs": [
    {
     "name": "stdout",
     "output_type": "stream",
     "text": [
      "hello-world\n"
     ]
    }
   ],
   "source": [
    "separator = \"-\"\n",
    "list = [\"hello\", \"world\"]\n",
    "result = separator.join(list) # joins a concatenated String with separator\n",
    "print(result)"
   ]
  },
  {
   "cell_type": "markdown",
   "id": "60c1d584",
   "metadata": {},
   "source": [
    "## Splitline Operation"
   ]
  },
  {
   "cell_type": "code",
   "execution_count": 15,
   "id": "19fd2919",
   "metadata": {},
   "outputs": [
    {
     "name": "stdout",
     "output_type": "stream",
     "text": [
      "['Text', 'Based', 'Analysis']\n"
     ]
    }
   ],
   "source": [
    "str = \"Text\\nBased\\nAnalysis\"\n",
    "result = str.splitlines()#Split the lines at line boundaries\n",
    "print(result) "
   ]
  },
  {
   "cell_type": "markdown",
   "id": "cce4d975",
   "metadata": {},
   "source": [
    "## Regex Functions"
   ]
  },
  {
   "cell_type": "code",
   "execution_count": 16,
   "id": "8d22e068",
   "metadata": {},
   "outputs": [],
   "source": [
    "#Importing Regex module\n",
    "import re"
   ]
  },
  {
   "cell_type": "markdown",
   "id": "a0264896",
   "metadata": {},
   "source": [
    "## Finding Function"
   ]
  },
  {
   "cell_type": "code",
   "execution_count": 17,
   "id": "f543fd39",
   "metadata": {},
   "outputs": [
    {
     "name": "stdout",
     "output_type": "stream",
     "text": [
      "['si']\n"
     ]
    }
   ],
   "source": [
    "str = \"Text Based Analysis\" \n",
    "x = re.findall(\"si\", str) # Printing list of all the matches\n",
    "print(x)"
   ]
  },
  {
   "cell_type": "markdown",
   "id": "eb8d11fe",
   "metadata": {},
   "source": [
    "## Searching Function"
   ]
  },
  {
   "cell_type": "code",
   "execution_count": 18,
   "id": "456fa41b",
   "metadata": {},
   "outputs": [
    {
     "name": "stdout",
     "output_type": "stream",
     "text": [
      "<re.Match object; span=(5, 10), match='Based'>\n"
     ]
    }
   ],
   "source": [
    "str = \"Text Based Analysis Subject\"\n",
    "x = re.search(\"Based\", str) #Searching for based in the string\n",
    "print(x)"
   ]
  },
  {
   "cell_type": "markdown",
   "id": "7c63a1a3",
   "metadata": {},
   "source": [
    "## Split Function"
   ]
  },
  {
   "cell_type": "code",
   "execution_count": 19,
   "id": "69a471fd",
   "metadata": {},
   "outputs": [
    {
     "name": "stdout",
     "output_type": "stream",
     "text": [
      "['Text', 'Based', 'Analysis', 'is', 'with', 'python', 'language']\n"
     ]
    }
   ],
   "source": [
    "str = \"Text Based Analysis is with python language\"\n",
    "x = re.split(\"\\s\", str) # Split String at White Space.\n",
    "print(x)"
   ]
  },
  {
   "cell_type": "markdown",
   "id": "8363c68b",
   "metadata": {},
   "source": [
    "## Sub Function"
   ]
  },
  {
   "cell_type": "code",
   "execution_count": 20,
   "id": "9cdd8306",
   "metadata": {},
   "outputs": [
    {
     "name": "stdout",
     "output_type": "stream",
     "text": [
      "Text*Based*Analysis*is*with*python*language\n"
     ]
    }
   ],
   "source": [
    "str = \"Text Based Analysis is with python language\"\n",
    "x = re.sub(\"\\s\", \"*\", str) #Replace Spaces With *\n",
    "print(x)"
   ]
  },
  {
   "cell_type": "markdown",
   "id": "0616a988",
   "metadata": {},
   "source": [
    "## Extraction of Letters with Metacharacter []"
   ]
  },
  {
   "cell_type": "code",
   "execution_count": 21,
   "id": "acc57601",
   "metadata": {},
   "outputs": [
    {
     "name": "stdout",
     "output_type": "stream",
     "text": [
      "['e', 'a', 'e', 'd', 'n', 'a', 'l', 'i', 'i', 'i', 'h', 'h', 'n', 'l', 'a', 'n', 'g', 'a', 'g', 'e']\n"
     ]
    }
   ],
   "source": [
    "str = \"Text Based Analysis is with python language\"\n",
    "#Find all lower case characters alphabetically between \"a\" and \"n\"\n",
    "x = re.findall(\"[a-n]\", str)\n",
    "print(x)"
   ]
  },
  {
   "cell_type": "markdown",
   "id": "348ab8b8",
   "metadata": {},
   "source": [
    "## Extraction of Digits with Metacharacter []"
   ]
  },
  {
   "cell_type": "code",
   "execution_count": 22,
   "id": "167f7dc0",
   "metadata": {},
   "outputs": [
    {
     "name": "stdout",
     "output_type": "stream",
     "text": [
      "['2', '3', '0']\n"
     ]
    }
   ],
   "source": [
    "str = \"Text Based Analysis class at 2:30\"\n",
    "#Find all digit characters:\n",
    "x = re.findall(\"\\d\", str)\n",
    "print(x)"
   ]
  }
 ],
 "metadata": {
  "kernelspec": {
   "display_name": "Python 3 (ipykernel)",
   "language": "python",
   "name": "python3"
  },
  "language_info": {
   "codemirror_mode": {
    "name": "ipython",
    "version": 3
   },
   "file_extension": ".py",
   "mimetype": "text/x-python",
   "name": "python",
   "nbconvert_exporter": "python",
   "pygments_lexer": "ipython3",
   "version": "3.11.5"
  }
 },
 "nbformat": 4,
 "nbformat_minor": 5
}
