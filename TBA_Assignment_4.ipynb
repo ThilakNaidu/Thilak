{
 "cells": [
  {
   "cell_type": "markdown",
   "id": "b0f73f49",
   "metadata": {},
   "source": [
    "# Sentiment Analysis"
   ]
  },
  {
   "cell_type": "markdown",
   "id": "c123bbd1",
   "metadata": {},
   "source": [
    "## Reading Datafile"
   ]
  },
  {
   "cell_type": "code",
   "execution_count": 1,
   "id": "702c99c2",
   "metadata": {},
   "outputs": [
    {
     "data": {
      "text/html": [
       "<div>\n",
       "<style scoped>\n",
       "    .dataframe tbody tr th:only-of-type {\n",
       "        vertical-align: middle;\n",
       "    }\n",
       "\n",
       "    .dataframe tbody tr th {\n",
       "        vertical-align: top;\n",
       "    }\n",
       "\n",
       "    .dataframe thead th {\n",
       "        text-align: right;\n",
       "    }\n",
       "</style>\n",
       "<table border=\"1\" class=\"dataframe\">\n",
       "  <thead>\n",
       "    <tr style=\"text-align: right;\">\n",
       "      <th></th>\n",
       "      <th>published_date</th>\n",
       "      <th>published_platform</th>\n",
       "      <th>rating</th>\n",
       "      <th>type</th>\n",
       "      <th>text</th>\n",
       "      <th>title</th>\n",
       "      <th>helpful_votes</th>\n",
       "    </tr>\n",
       "  </thead>\n",
       "  <tbody>\n",
       "    <tr>\n",
       "      <th>7914</th>\n",
       "      <td>2018-12-16T08:23:58-05:00</td>\n",
       "      <td>Mobile</td>\n",
       "      <td>5</td>\n",
       "      <td>review</td>\n",
       "      <td>I took the new long haul flight on Singapore A...</td>\n",
       "      <td>Best flight experience ever!</td>\n",
       "      <td>3</td>\n",
       "    </tr>\n",
       "    <tr>\n",
       "      <th>3274</th>\n",
       "      <td>2019-10-09T03:02:26-04:00</td>\n",
       "      <td>Desktop</td>\n",
       "      <td>5</td>\n",
       "      <td>review</td>\n",
       "      <td>Execlent service from  booking in at the airpo...</td>\n",
       "      <td>Holiday to Australia</td>\n",
       "      <td>1</td>\n",
       "    </tr>\n",
       "    <tr>\n",
       "      <th>7635</th>\n",
       "      <td>2018-12-18T00:39:29-05:00</td>\n",
       "      <td>Desktop</td>\n",
       "      <td>5</td>\n",
       "      <td>review</td>\n",
       "      <td>They run their airline like their country. Qui...</td>\n",
       "      <td>Their warmth is world class</td>\n",
       "      <td>1</td>\n",
       "    </tr>\n",
       "    <tr>\n",
       "      <th>4472</th>\n",
       "      <td>2019-07-11T21:27:21-04:00</td>\n",
       "      <td>Desktop</td>\n",
       "      <td>4</td>\n",
       "      <td>review</td>\n",
       "      <td>The service was really good. But sadly in my n...</td>\n",
       "      <td>The chair's reclaining was broken</td>\n",
       "      <td>1</td>\n",
       "    </tr>\n",
       "    <tr>\n",
       "      <th>7700</th>\n",
       "      <td>2018-12-17T18:32:55-05:00</td>\n",
       "      <td>Desktop</td>\n",
       "      <td>5</td>\n",
       "      <td>review</td>\n",
       "      <td>The extra legroom compared to some carriers ga...</td>\n",
       "      <td>Quality, legroom and baggage allowance</td>\n",
       "      <td>0</td>\n",
       "    </tr>\n",
       "    <tr>\n",
       "      <th>2157</th>\n",
       "      <td>2020-01-03T16:45:45-05:00</td>\n",
       "      <td>Desktop</td>\n",
       "      <td>3</td>\n",
       "      <td>review</td>\n",
       "      <td>My husband has a medical problem which means h...</td>\n",
       "      <td>Disappointment at request</td>\n",
       "      <td>2</td>\n",
       "    </tr>\n",
       "    <tr>\n",
       "      <th>3131</th>\n",
       "      <td>2019-10-22T17:46:57-04:00</td>\n",
       "      <td>Desktop</td>\n",
       "      <td>3</td>\n",
       "      <td>review</td>\n",
       "      <td>Well it didn't start well on our flight when i...</td>\n",
       "      <td>Good things and bad things</td>\n",
       "      <td>2</td>\n",
       "    </tr>\n",
       "    <tr>\n",
       "      <th>8809</th>\n",
       "      <td>2018-10-04T15:00:41-04:00</td>\n",
       "      <td>Desktop</td>\n",
       "      <td>4</td>\n",
       "      <td>review</td>\n",
       "      <td>Singapore always delivers a very professional ...</td>\n",
       "      <td>Solid professionalism</td>\n",
       "      <td>0</td>\n",
       "    </tr>\n",
       "    <tr>\n",
       "      <th>5199</th>\n",
       "      <td>2019-06-07T00:09:43-04:00</td>\n",
       "      <td>Desktop</td>\n",
       "      <td>5</td>\n",
       "      <td>review</td>\n",
       "      <td>As usual you get the service you expect from a...</td>\n",
       "      <td>Lovely flight</td>\n",
       "      <td>1</td>\n",
       "    </tr>\n",
       "    <tr>\n",
       "      <th>4799</th>\n",
       "      <td>2019-07-09T08:36:24-04:00</td>\n",
       "      <td>Mobile</td>\n",
       "      <td>1</td>\n",
       "      <td>review</td>\n",
       "      <td>I will never ever fly Singapore Airline again,...</td>\n",
       "      <td>Nightmare Flight</td>\n",
       "      <td>3</td>\n",
       "    </tr>\n",
       "  </tbody>\n",
       "</table>\n",
       "</div>"
      ],
      "text/plain": [
       "                 published_date published_platform  rating    type  \\\n",
       "7914  2018-12-16T08:23:58-05:00             Mobile       5  review   \n",
       "3274  2019-10-09T03:02:26-04:00            Desktop       5  review   \n",
       "7635  2018-12-18T00:39:29-05:00            Desktop       5  review   \n",
       "4472  2019-07-11T21:27:21-04:00            Desktop       4  review   \n",
       "7700  2018-12-17T18:32:55-05:00            Desktop       5  review   \n",
       "2157  2020-01-03T16:45:45-05:00            Desktop       3  review   \n",
       "3131  2019-10-22T17:46:57-04:00            Desktop       3  review   \n",
       "8809  2018-10-04T15:00:41-04:00            Desktop       4  review   \n",
       "5199  2019-06-07T00:09:43-04:00            Desktop       5  review   \n",
       "4799  2019-07-09T08:36:24-04:00             Mobile       1  review   \n",
       "\n",
       "                                                   text  \\\n",
       "7914  I took the new long haul flight on Singapore A...   \n",
       "3274  Execlent service from  booking in at the airpo...   \n",
       "7635  They run their airline like their country. Qui...   \n",
       "4472  The service was really good. But sadly in my n...   \n",
       "7700  The extra legroom compared to some carriers ga...   \n",
       "2157  My husband has a medical problem which means h...   \n",
       "3131  Well it didn't start well on our flight when i...   \n",
       "8809  Singapore always delivers a very professional ...   \n",
       "5199  As usual you get the service you expect from a...   \n",
       "4799  I will never ever fly Singapore Airline again,...   \n",
       "\n",
       "                                       title  helpful_votes  \n",
       "7914            Best flight experience ever!              3  \n",
       "3274                    Holiday to Australia              1  \n",
       "7635             Their warmth is world class              1  \n",
       "4472       The chair's reclaining was broken              1  \n",
       "7700  Quality, legroom and baggage allowance              0  \n",
       "2157               Disappointment at request              2  \n",
       "3131              Good things and bad things              2  \n",
       "8809                   Solid professionalism              0  \n",
       "5199                           Lovely flight              1  \n",
       "4799                        Nightmare Flight              3  "
      ]
     },
     "execution_count": 1,
     "metadata": {},
     "output_type": "execute_result"
    }
   ],
   "source": [
    "import pandas as pd  #Importing pandas library \n",
    "df = pd.read_csv('singapore_airlines_reviews.csv') #reading a CSV file into a DataFrame\n",
    "df.sample(10) # Displaying a sample of 10 rows from the DataFrame"
   ]
  },
  {
   "cell_type": "markdown",
   "id": "0b9e9d4f",
   "metadata": {},
   "source": [
    "## Exploring Opinion Lexicon in NLTK Library"
   ]
  },
  {
   "cell_type": "code",
   "execution_count": 2,
   "id": "8fc77a94",
   "metadata": {},
   "outputs": [
    {
     "name": "stdout",
     "output_type": "stream",
     "text": [
      "Total number of words in opinion lexicon 6789\n",
      "Examples of positive words in opinion lexicon ['a+', 'abound', 'abounds', 'abundance', 'abundant', 'accessable', 'accessible', 'acclaim', 'acclaimed', 'acclamation']\n",
      "Examples of negative words in opinion lexicon ['2-faced', '2-faces', 'abnormal', 'abolish', 'abominable', 'abominably', 'abominate', 'abomination', 'abort', 'aborted']\n"
     ]
    },
    {
     "name": "stderr",
     "output_type": "stream",
     "text": [
      "[nltk_data] Downloading package opinion_lexicon to\n",
      "[nltk_data]     C:\\Users\\Alex\\AppData\\Roaming\\nltk_data...\n",
      "[nltk_data]   Package opinion_lexicon is already up-to-date!\n"
     ]
    }
   ],
   "source": [
    "from sklearn import preprocessing #Importing preprocessing module from sklearn\n",
    "import nltk #Importing Natural Language Toolkit library \n",
    "nltk.download('opinion_lexicon')#Downloading the opinion lexicon dataset from NLTK\n",
    "from nltk.corpus import opinion_lexicon#Importing the opinion_lexicon corpus, which contains positive&negative opinion words\n",
    "from nltk.tokenize import word_tokenize#Importing word_tokenize function, which is used for tokenizing words\n",
    "\n",
    "print('Total number of words in opinion lexicon', len(opinion_lexicon.words()))#Printing total no of words in opinion lexicon\n",
    "print('Examples of positive words in opinion lexicon',\n",
    "      opinion_lexicon.positive()[:10]) # Printing examples of positive words in the opinion lexicon\n",
    "print('Examples of negative words in opinion lexicon',\n",
    "      opinion_lexicon.negative()[:10]) # Printing examples of negative words in the opinion lexicon"
   ]
  },
  {
   "cell_type": "markdown",
   "id": "938a46d2",
   "metadata": {},
   "source": [
    "## Creation of Dictionary for Sentiment Analysis"
   ]
  },
  {
   "cell_type": "code",
   "execution_count": 3,
   "id": "51753042",
   "metadata": {},
   "outputs": [
    {
     "name": "stderr",
     "output_type": "stream",
     "text": [
      "[nltk_data] Downloading package punkt to\n",
      "[nltk_data]     C:\\Users\\Alex\\AppData\\Roaming\\nltk_data...\n",
      "[nltk_data]   Package punkt is already up-to-date!\n"
     ]
    }
   ],
   "source": [
    "# Let's create a dictionary which we can use for scoring our review text\n",
    "\n",
    "# Downloading punkt from NLTK library\n",
    "nltk.download('punkt')\n",
    "\n",
    "# Renaming the column 'reviewText' to 'Modules' in the DataFrame\n",
    "df.rename(columns={\"text\": \"Modules\"}, inplace=True)\n",
    "\n",
    "# Assigning positive and negative scores\n",
    "pos_score = 1\n",
    "neg_score = -1\n",
    "\n",
    "# Initializing an empty dictionary\n",
    "word_dict = {}\n",
    " \n",
    "# Adding the positive words to the dictionary\n",
    "for word in opinion_lexicon.positive():\n",
    "        word_dict[word] = pos_score\n",
    "      \n",
    "# Adding the negative words to the dictionary\n",
    "for word in opinion_lexicon.negative():\n",
    "        word_dict[word] = neg_score"
   ]
  },
  {
   "cell_type": "markdown",
   "id": "927b93e5",
   "metadata": {},
   "source": [
    "## Calculating Sentiment Score with Bing Liu Lexicon"
   ]
  },
  {
   "cell_type": "code",
   "execution_count": 4,
   "id": "59c2b4a6",
   "metadata": {},
   "outputs": [],
   "source": [
    "#Creating a fuunction text\n",
    "def bing_liu_score(Modules):\n",
    "    #Initializing the sentiment score\n",
    "    sentiment_score = 0\n",
    "    #Tokenizing the input text into words and convert them to lowercase\n",
    "    bag_of_words = word_tokenize(Modules.lower())\n",
    "     # creating loop to check each word in the bag of words\n",
    "    for word in bag_of_words:\n",
    "        #Checking if the word exists in the sentiment dictionary\n",
    "        if word in word_dict:\n",
    "            # If the word exist, adding its sentiment score to the sentiment score\n",
    "            sentiment_score += word_dict[word]\n",
    "    return sentiment_score  #Returning the sentiment score for the text"
   ]
  },
  {
   "cell_type": "code",
   "execution_count": 5,
   "id": "e7c4dda8",
   "metadata": {},
   "outputs": [],
   "source": [
    "# Fill NaN values in the 'text' column\n",
    "df['Modules'].fillna('no review', inplace=True)\n",
    "#creating new column 'Bing_Liu_Score' to store the scores by applying  bing_liu_score to calculate sentiment scores for Module column\n",
    "df['Bing_Liu_Score'] = df['Modules'].apply(bing_liu_score)"
   ]
  },
  {
   "cell_type": "code",
   "execution_count": 7,
   "id": "5bf0e094",
   "metadata": {},
   "outputs": [
    {
     "data": {
      "text/html": [
       "<div>\n",
       "<style scoped>\n",
       "    .dataframe tbody tr th:only-of-type {\n",
       "        vertical-align: middle;\n",
       "    }\n",
       "\n",
       "    .dataframe tbody tr th {\n",
       "        vertical-align: top;\n",
       "    }\n",
       "\n",
       "    .dataframe thead th {\n",
       "        text-align: right;\n",
       "    }\n",
       "</style>\n",
       "<table border=\"1\" class=\"dataframe\">\n",
       "  <thead>\n",
       "    <tr style=\"text-align: right;\">\n",
       "      <th></th>\n",
       "      <th>type</th>\n",
       "      <th>rating</th>\n",
       "      <th>title</th>\n",
       "      <th>Modules</th>\n",
       "      <th>Bing_Liu_Score</th>\n",
       "    </tr>\n",
       "  </thead>\n",
       "  <tbody>\n",
       "    <tr>\n",
       "      <th>0</th>\n",
       "      <td>review</td>\n",
       "      <td>3</td>\n",
       "      <td>Ok</td>\n",
       "      <td>We used this airline to go from Singapore to L...</td>\n",
       "      <td>5</td>\n",
       "    </tr>\n",
       "    <tr>\n",
       "      <th>1</th>\n",
       "      <td>review</td>\n",
       "      <td>5</td>\n",
       "      <td>The service in Suites Class makes one feel lik...</td>\n",
       "      <td>The service on Singapore Airlines Suites Class...</td>\n",
       "      <td>20</td>\n",
       "    </tr>\n",
       "    <tr>\n",
       "      <th>2</th>\n",
       "      <td>review</td>\n",
       "      <td>1</td>\n",
       "      <td>Don’t give them your money</td>\n",
       "      <td>Booked, paid and received email confirmation f...</td>\n",
       "      <td>-1</td>\n",
       "    </tr>\n",
       "    <tr>\n",
       "      <th>3</th>\n",
       "      <td>review</td>\n",
       "      <td>5</td>\n",
       "      <td>Best Airline in the World</td>\n",
       "      <td>Best airline in the world, seats, food, servic...</td>\n",
       "      <td>4</td>\n",
       "    </tr>\n",
       "    <tr>\n",
       "      <th>4</th>\n",
       "      <td>review</td>\n",
       "      <td>2</td>\n",
       "      <td>Premium Economy Seating on Singapore Airlines ...</td>\n",
       "      <td>Premium Economy Seating on Singapore Airlines ...</td>\n",
       "      <td>-1</td>\n",
       "    </tr>\n",
       "  </tbody>\n",
       "</table>\n",
       "</div>"
      ],
      "text/plain": [
       "     type  rating                                              title  \\\n",
       "0  review       3                                                 Ok   \n",
       "1  review       5  The service in Suites Class makes one feel lik...   \n",
       "2  review       1                         Don’t give them your money   \n",
       "3  review       5                          Best Airline in the World   \n",
       "4  review       2  Premium Economy Seating on Singapore Airlines ...   \n",
       "\n",
       "                                             Modules  Bing_Liu_Score  \n",
       "0  We used this airline to go from Singapore to L...               5  \n",
       "1  The service on Singapore Airlines Suites Class...              20  \n",
       "2  Booked, paid and received email confirmation f...              -1  \n",
       "3  Best airline in the world, seats, food, servic...               4  \n",
       "4  Premium Economy Seating on Singapore Airlines ...              -1  "
      ]
     },
     "execution_count": 7,
     "metadata": {},
     "output_type": "execute_result"
    }
   ],
   "source": [
    "# Displaying the first 5 rows of the DataFrame with few columns\n",
    "df[['type', 'rating','title',\"Modules\", 'Bing_Liu_Score']].head(5)"
   ]
  },
  {
   "cell_type": "markdown",
   "id": "4e6dd711",
   "metadata": {},
   "source": [
    "## Calculating Mean Sentiment Score"
   ]
  },
  {
   "cell_type": "code",
   "execution_count": 8,
   "id": "1db1b362",
   "metadata": {},
   "outputs": [
    {
     "data": {
      "text/html": [
       "<div>\n",
       "<style scoped>\n",
       "    .dataframe tbody tr th:only-of-type {\n",
       "        vertical-align: middle;\n",
       "    }\n",
       "\n",
       "    .dataframe tbody tr th {\n",
       "        vertical-align: top;\n",
       "    }\n",
       "\n",
       "    .dataframe thead th {\n",
       "        text-align: right;\n",
       "    }\n",
       "</style>\n",
       "<table border=\"1\" class=\"dataframe\">\n",
       "  <thead>\n",
       "    <tr style=\"text-align: right;\">\n",
       "      <th></th>\n",
       "      <th>Bing_Liu_Score</th>\n",
       "    </tr>\n",
       "    <tr>\n",
       "      <th>rating</th>\n",
       "      <th></th>\n",
       "    </tr>\n",
       "  </thead>\n",
       "  <tbody>\n",
       "    <tr>\n",
       "      <th>1</th>\n",
       "      <td>-1.854305</td>\n",
       "    </tr>\n",
       "    <tr>\n",
       "      <th>2</th>\n",
       "      <td>-0.440147</td>\n",
       "    </tr>\n",
       "    <tr>\n",
       "      <th>3</th>\n",
       "      <td>1.272547</td>\n",
       "    </tr>\n",
       "    <tr>\n",
       "      <th>4</th>\n",
       "      <td>3.770208</td>\n",
       "    </tr>\n",
       "    <tr>\n",
       "      <th>5</th>\n",
       "      <td>4.912058</td>\n",
       "    </tr>\n",
       "  </tbody>\n",
       "</table>\n",
       "</div>"
      ],
      "text/plain": [
       "        Bing_Liu_Score\n",
       "rating                \n",
       "1            -1.854305\n",
       "2            -0.440147\n",
       "3             1.272547\n",
       "4             3.770208\n",
       "5             4.912058"
      ]
     },
     "execution_count": 8,
     "metadata": {},
     "output_type": "execute_result"
    }
   ],
   "source": [
    "df.groupby('rating').agg({'Bing_Liu_Score':'mean'})"
   ]
  },
  {
   "cell_type": "code",
   "execution_count": null,
   "id": "8c419925",
   "metadata": {},
   "outputs": [],
   "source": []
  }
 ],
 "metadata": {
  "kernelspec": {
   "display_name": "Python 3 (ipykernel)",
   "language": "python",
   "name": "python3"
  },
  "language_info": {
   "codemirror_mode": {
    "name": "ipython",
    "version": 3
   },
   "file_extension": ".py",
   "mimetype": "text/x-python",
   "name": "python",
   "nbconvert_exporter": "python",
   "pygments_lexer": "ipython3",
   "version": "3.11.5"
  }
 },
 "nbformat": 4,
 "nbformat_minor": 5
}
