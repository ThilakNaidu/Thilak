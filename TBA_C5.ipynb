{
 "cells": [
  {
   "cell_type": "markdown",
   "id": "03006b66",
   "metadata": {},
   "source": [
    "# Sentiment Analysis"
   ]
  },
  {
   "cell_type": "markdown",
   "id": "7343d881",
   "metadata": {},
   "source": [
    "## Reading Datafile"
   ]
  },
  {
   "cell_type": "code",
   "execution_count": 7,
   "id": "105e655f",
   "metadata": {},
   "outputs": [
    {
     "data": {
      "text/html": [
       "<div>\n",
       "<style scoped>\n",
       "    .dataframe tbody tr th:only-of-type {\n",
       "        vertical-align: middle;\n",
       "    }\n",
       "\n",
       "    .dataframe tbody tr th {\n",
       "        vertical-align: top;\n",
       "    }\n",
       "\n",
       "    .dataframe thead th {\n",
       "        text-align: right;\n",
       "    }\n",
       "</style>\n",
       "<table border=\"1\" class=\"dataframe\">\n",
       "  <thead>\n",
       "    <tr style=\"text-align: right;\">\n",
       "      <th></th>\n",
       "      <th>overall</th>\n",
       "      <th>verified</th>\n",
       "      <th>reviewerID</th>\n",
       "      <th>asin</th>\n",
       "      <th>reviewText</th>\n",
       "      <th>summary</th>\n",
       "    </tr>\n",
       "  </thead>\n",
       "  <tbody>\n",
       "    <tr>\n",
       "      <th>265092</th>\n",
       "      <td>5</td>\n",
       "      <td>True</td>\n",
       "      <td>A1QJDPQJ0K70A2</td>\n",
       "      <td>B008QSJDGK</td>\n",
       "      <td>Finally exactly what I was looking for. Easy o...</td>\n",
       "      <td>Love these stitch markers!</td>\n",
       "    </tr>\n",
       "    <tr>\n",
       "      <th>46872</th>\n",
       "      <td>5</td>\n",
       "      <td>True</td>\n",
       "      <td>A3W328RA5TIRDD</td>\n",
       "      <td>B000XANNVA</td>\n",
       "      <td>Great</td>\n",
       "      <td>Great</td>\n",
       "    </tr>\n",
       "    <tr>\n",
       "      <th>461694</th>\n",
       "      <td>5</td>\n",
       "      <td>True</td>\n",
       "      <td>A3H19BNX8EQ2AU</td>\n",
       "      <td>B00CMSK828</td>\n",
       "      <td>Used to make bracelets.  Am happy with it.</td>\n",
       "      <td>Happy</td>\n",
       "    </tr>\n",
       "    <tr>\n",
       "      <th>58625</th>\n",
       "      <td>5</td>\n",
       "      <td>True</td>\n",
       "      <td>AR8RRQURPG8N4</td>\n",
       "      <td>B000YZ7QLC</td>\n",
       "      <td>Very good storage solution for keeping extra p...</td>\n",
       "      <td>Great little box - perfect for storing extra b...</td>\n",
       "    </tr>\n",
       "    <tr>\n",
       "      <th>50024</th>\n",
       "      <td>5</td>\n",
       "      <td>True</td>\n",
       "      <td>A39BP303UQARE8</td>\n",
       "      <td>B000Y00DDK</td>\n",
       "      <td>Good color</td>\n",
       "      <td>Five Stars</td>\n",
       "    </tr>\n",
       "    <tr>\n",
       "      <th>195968</th>\n",
       "      <td>4</td>\n",
       "      <td>True</td>\n",
       "      <td>A14BK0ISXOPPR3</td>\n",
       "      <td>B003IXFPC4</td>\n",
       "      <td>very decorative</td>\n",
       "      <td>Four Stars</td>\n",
       "    </tr>\n",
       "    <tr>\n",
       "      <th>488237</th>\n",
       "      <td>5</td>\n",
       "      <td>True</td>\n",
       "      <td>AJ98H5CPDYMOV</td>\n",
       "      <td>B015MA6DRQ</td>\n",
       "      <td>Love the look of this pattern. Ready to cut ou...</td>\n",
       "      <td>Will let you know  Great service?</td>\n",
       "    </tr>\n",
       "    <tr>\n",
       "      <th>355693</th>\n",
       "      <td>5</td>\n",
       "      <td>True</td>\n",
       "      <td>A21A82RP1TJDH5</td>\n",
       "      <td>B00OLZWOEU</td>\n",
       "      <td>The Bead Smith Tarnish Resistant wire is just ...</td>\n",
       "      <td>Wired</td>\n",
       "    </tr>\n",
       "    <tr>\n",
       "      <th>113141</th>\n",
       "      <td>4</td>\n",
       "      <td>True</td>\n",
       "      <td>AJ1QCT650MVSH</td>\n",
       "      <td>B001283FMO</td>\n",
       "      <td>These are great tools to have when drawing and...</td>\n",
       "      <td>Four Stars</td>\n",
       "    </tr>\n",
       "    <tr>\n",
       "      <th>174904</th>\n",
       "      <td>5</td>\n",
       "      <td>True</td>\n",
       "      <td>A3HVA6BTVB1UYP</td>\n",
       "      <td>B00281K4X2</td>\n",
       "      <td>i haven't made any thing yet with this yarn bu...</td>\n",
       "      <td>gorgeous colors</td>\n",
       "    </tr>\n",
       "  </tbody>\n",
       "</table>\n",
       "</div>"
      ],
      "text/plain": [
       "        overall  verified      reviewerID        asin  \\\n",
       "265092        5      True  A1QJDPQJ0K70A2  B008QSJDGK   \n",
       "46872         5      True  A3W328RA5TIRDD  B000XANNVA   \n",
       "461694        5      True  A3H19BNX8EQ2AU  B00CMSK828   \n",
       "58625         5      True   AR8RRQURPG8N4  B000YZ7QLC   \n",
       "50024         5      True  A39BP303UQARE8  B000Y00DDK   \n",
       "195968        4      True  A14BK0ISXOPPR3  B003IXFPC4   \n",
       "488237        5      True   AJ98H5CPDYMOV  B015MA6DRQ   \n",
       "355693        5      True  A21A82RP1TJDH5  B00OLZWOEU   \n",
       "113141        4      True   AJ1QCT650MVSH  B001283FMO   \n",
       "174904        5      True  A3HVA6BTVB1UYP  B00281K4X2   \n",
       "\n",
       "                                               reviewText  \\\n",
       "265092  Finally exactly what I was looking for. Easy o...   \n",
       "46872                                               Great   \n",
       "461694         Used to make bracelets.  Am happy with it.   \n",
       "58625   Very good storage solution for keeping extra p...   \n",
       "50024                                          Good color   \n",
       "195968                                    very decorative   \n",
       "488237  Love the look of this pattern. Ready to cut ou...   \n",
       "355693  The Bead Smith Tarnish Resistant wire is just ...   \n",
       "113141  These are great tools to have when drawing and...   \n",
       "174904  i haven't made any thing yet with this yarn bu...   \n",
       "\n",
       "                                                  summary  \n",
       "265092                         Love these stitch markers!  \n",
       "46872                                               Great  \n",
       "461694                                              Happy  \n",
       "58625   Great little box - perfect for storing extra b...  \n",
       "50024                                          Five Stars  \n",
       "195968                                         Four Stars  \n",
       "488237                  Will let you know  Great service?  \n",
       "355693                                              Wired  \n",
       "113141                                         Four Stars  \n",
       "174904                                    gorgeous colors  "
      ]
     },
     "execution_count": 7,
     "metadata": {},
     "output_type": "execute_result"
    }
   ],
   "source": [
    "import pandas as pd  #Importing pandas library \n",
    "df = pd.read_csv('Arts_Crafts_and_Sewing_5.csv') #reading a CSV file into a DataFrame\n",
    "df.sample(10) # Displaying a sample of 10 rows from the DataFrame"
   ]
  },
  {
   "cell_type": "markdown",
   "id": "7b2d947e",
   "metadata": {},
   "source": [
    "## Installing Scikit-learn Package"
   ]
  },
  {
   "cell_type": "code",
   "execution_count": 8,
   "id": "9123c294",
   "metadata": {},
   "outputs": [
    {
     "name": "stdout",
     "output_type": "stream",
     "text": [
      "Requirement already satisfied: scikit-learn in c:\\users\\alex\\anaconda3\\lib\\site-packages (1.3.0)\n",
      "Requirement already satisfied: numpy>=1.17.3 in c:\\users\\alex\\anaconda3\\lib\\site-packages (from scikit-learn) (1.24.3)\n",
      "Requirement already satisfied: scipy>=1.5.0 in c:\\users\\alex\\anaconda3\\lib\\site-packages (from scikit-learn) (1.11.1)\n",
      "Requirement already satisfied: joblib>=1.1.1 in c:\\users\\alex\\anaconda3\\lib\\site-packages (from scikit-learn) (1.2.0)\n",
      "Requirement already satisfied: threadpoolctl>=2.0.0 in c:\\users\\alex\\anaconda3\\lib\\site-packages (from scikit-learn) (2.2.0)\n"
     ]
    }
   ],
   "source": [
    "!pip install scikit-learn"
   ]
  },
  {
   "cell_type": "markdown",
   "id": "85f63445",
   "metadata": {},
   "source": [
    "## Exploring Opinion Lexicon in NLTK Library"
   ]
  },
  {
   "cell_type": "code",
   "execution_count": 9,
   "id": "6c58e897",
   "metadata": {},
   "outputs": [
    {
     "name": "stderr",
     "output_type": "stream",
     "text": [
      "[nltk_data] Downloading package opinion_lexicon to\n",
      "[nltk_data]     C:\\Users\\Alex\\AppData\\Roaming\\nltk_data...\n"
     ]
    },
    {
     "name": "stdout",
     "output_type": "stream",
     "text": [
      "Total number of words in opinion lexicon 6789\n",
      "Examples of positive words in opinion lexicon ['a+', 'abound', 'abounds', 'abundance', 'abundant', 'accessable', 'accessible', 'acclaim', 'acclaimed', 'acclamation']\n",
      "Examples of negative words in opinion lexicon ['2-faced', '2-faces', 'abnormal', 'abolish', 'abominable', 'abominably', 'abominate', 'abomination', 'abort', 'aborted']\n"
     ]
    },
    {
     "name": "stderr",
     "output_type": "stream",
     "text": [
      "[nltk_data]   Unzipping corpora\\opinion_lexicon.zip.\n"
     ]
    }
   ],
   "source": [
    "from sklearn import preprocessing #Importing preprocessing module from sklearn\n",
    "import nltk #Importing Natural Language Toolkit library \n",
    "nltk.download('opinion_lexicon')#Downloading the opinion lexicon dataset from NLTK\n",
    "from nltk.corpus import opinion_lexicon#Importing the opinion_lexicon corpus, which contains positive&negative opinion words\n",
    "from nltk.tokenize import word_tokenize#Importing word_tokenize function, which is used for tokenizing words\n",
    "\n",
    "print('Total number of words in opinion lexicon', len(opinion_lexicon.words()))#Printing total no of words in opinion lexicon\n",
    "print('Examples of positive words in opinion lexicon',\n",
    "      opinion_lexicon.positive()[:10]) # Printing examples of positive words in the opinion lexicon\n",
    "print('Examples of negative words in opinion lexicon',\n",
    "      opinion_lexicon.negative()[:10]) # Printing examples of negative words in the opinion lexicon\n"
   ]
  },
  {
   "cell_type": "markdown",
   "id": "4cef3d5a",
   "metadata": {},
   "source": [
    "## Creation of Dictionary for Sentiment Analysis "
   ]
  },
  {
   "cell_type": "code",
   "execution_count": 11,
   "id": "056359d5",
   "metadata": {},
   "outputs": [
    {
     "name": "stderr",
     "output_type": "stream",
     "text": [
      "[nltk_data] Downloading package punkt to\n",
      "[nltk_data]     C:\\Users\\Alex\\AppData\\Roaming\\nltk_data...\n",
      "[nltk_data]   Package punkt is already up-to-date!\n"
     ]
    }
   ],
   "source": [
    "# Let's create a dictionary which we can use for scoring our review text\n",
    "\n",
    "# Downloading punkt from NLTK library\n",
    "nltk.download('punkt')\n",
    "\n",
    "# Renaming the column 'reviewText' to 'text' in the DataFrame\n",
    "df.rename(columns={\"reviewText\": \"text\"}, inplace=True)\n",
    "\n",
    "# Assigning positive and negative scores\n",
    "pos_score = 1\n",
    "neg_score = -1\n",
    "\n",
    "# Initializing an empty dictionary\n",
    "word_dict = {}\n",
    " \n",
    "# Adding the positive words to the dictionary\n",
    "for word in opinion_lexicon.positive():\n",
    "        word_dict[word] = pos_score\n",
    "      \n",
    "# Adding the negative words to the dictionary\n",
    "for word in opinion_lexicon.negative():\n",
    "        word_dict[word] = neg_score\n"
   ]
  },
  {
   "cell_type": "markdown",
   "id": "d04abe7a",
   "metadata": {},
   "source": [
    "## Calculating Sentiment Score with Bing Liu Lexicon"
   ]
  },
  {
   "cell_type": "code",
   "execution_count": 13,
   "id": "d37f14b4",
   "metadata": {},
   "outputs": [],
   "source": [
    "#Creating a fuunction text\n",
    "def bing_liu_score(text):\n",
    "    #Initializing the sentiment score\n",
    "    sentiment_score = 0\n",
    "    #Tokenizing the input text into words and convert them to lowercase\n",
    "    bag_of_words = word_tokenize(text.lower())\n",
    "     # creating loop to check each word in the bag of words\n",
    "    for word in bag_of_words:\n",
    "        #Checking if the word exists in the sentiment dictionary\n",
    "        if word in word_dict:\n",
    "            # If the word exist, adding its sentiment score to the sentiment score\n",
    "            sentiment_score += word_dict[word]\n",
    "    return sentiment_score  #Returning the sentiment score for the text"
   ]
  },
  {
   "cell_type": "markdown",
   "id": "f30456ee",
   "metadata": {},
   "source": [
    "## Data Preprocessing and Applying Sentiment Analysis with Bing Liu Lexicon"
   ]
  },
  {
   "cell_type": "code",
   "execution_count": 15,
   "id": "e949d63e",
   "metadata": {},
   "outputs": [],
   "source": [
    "# Fill NaN values in the 'text' column\n",
    "df['text'].fillna('no review', inplace=True)\n",
    "#creating new column 'Bing_Liu_Score' to store the scores by applying  bing_liu_score to calculate sentiment scores for each text\n",
    "df['Bing_Liu_Score'] = df['text'].apply(bing_liu_score)"
   ]
  },
  {
   "cell_type": "markdown",
   "id": "08ef55ed",
   "metadata": {},
   "source": [
    "## Displaying First 10 Columns "
   ]
  },
  {
   "cell_type": "code",
   "execution_count": 16,
   "id": "3de505af",
   "metadata": {},
   "outputs": [
    {
     "data": {
      "text/html": [
       "<div>\n",
       "<style scoped>\n",
       "    .dataframe tbody tr th:only-of-type {\n",
       "        vertical-align: middle;\n",
       "    }\n",
       "\n",
       "    .dataframe tbody tr th {\n",
       "        vertical-align: top;\n",
       "    }\n",
       "\n",
       "    .dataframe thead th {\n",
       "        text-align: right;\n",
       "    }\n",
       "</style>\n",
       "<table border=\"1\" class=\"dataframe\">\n",
       "  <thead>\n",
       "    <tr style=\"text-align: right;\">\n",
       "      <th></th>\n",
       "      <th>overall</th>\n",
       "      <th>text</th>\n",
       "      <th>Bing_Liu_Score</th>\n",
       "    </tr>\n",
       "  </thead>\n",
       "  <tbody>\n",
       "    <tr>\n",
       "      <th>0</th>\n",
       "      <td>4</td>\n",
       "      <td>Contains some interesting stitches.</td>\n",
       "      <td>1</td>\n",
       "    </tr>\n",
       "    <tr>\n",
       "      <th>1</th>\n",
       "      <td>5</td>\n",
       "      <td>I'm a fairly experienced knitter of the one-co...</td>\n",
       "      <td>22</td>\n",
       "    </tr>\n",
       "    <tr>\n",
       "      <th>2</th>\n",
       "      <td>4</td>\n",
       "      <td>Great book but the index is terrible. Had to w...</td>\n",
       "      <td>0</td>\n",
       "    </tr>\n",
       "    <tr>\n",
       "      <th>3</th>\n",
       "      <td>5</td>\n",
       "      <td>I purchased the Kindle edition which is incred...</td>\n",
       "      <td>4</td>\n",
       "    </tr>\n",
       "    <tr>\n",
       "      <th>4</th>\n",
       "      <td>5</td>\n",
       "      <td>Very well laid out and very easy to read.\\n\\nT...</td>\n",
       "      <td>5</td>\n",
       "    </tr>\n",
       "    <tr>\n",
       "      <th>5</th>\n",
       "      <td>5</td>\n",
       "      <td>Beginning her career as a freelance knitter, M...</td>\n",
       "      <td>15</td>\n",
       "    </tr>\n",
       "    <tr>\n",
       "      <th>6</th>\n",
       "      <td>5</td>\n",
       "      <td>This is a terrific stitch handbook (and I have...</td>\n",
       "      <td>9</td>\n",
       "    </tr>\n",
       "    <tr>\n",
       "      <th>7</th>\n",
       "      <td>4</td>\n",
       "      <td>The book needs to be coil bound. The content i...</td>\n",
       "      <td>1</td>\n",
       "    </tr>\n",
       "    <tr>\n",
       "      <th>8</th>\n",
       "      <td>5</td>\n",
       "      <td>I really am enjoying this book! I like the siz...</td>\n",
       "      <td>12</td>\n",
       "    </tr>\n",
       "    <tr>\n",
       "      <th>9</th>\n",
       "      <td>5</td>\n",
       "      <td>Just received this book and looked over it cov...</td>\n",
       "      <td>6</td>\n",
       "    </tr>\n",
       "  </tbody>\n",
       "</table>\n",
       "</div>"
      ],
      "text/plain": [
       "   overall                                               text  Bing_Liu_Score\n",
       "0        4                Contains some interesting stitches.               1\n",
       "1        5  I'm a fairly experienced knitter of the one-co...              22\n",
       "2        4  Great book but the index is terrible. Had to w...               0\n",
       "3        5  I purchased the Kindle edition which is incred...               4\n",
       "4        5  Very well laid out and very easy to read.\\n\\nT...               5\n",
       "5        5  Beginning her career as a freelance knitter, M...              15\n",
       "6        5  This is a terrific stitch handbook (and I have...               9\n",
       "7        4  The book needs to be coil bound. The content i...               1\n",
       "8        5  I really am enjoying this book! I like the siz...              12\n",
       "9        5  Just received this book and looked over it cov...               6"
      ]
     },
     "execution_count": 16,
     "metadata": {},
     "output_type": "execute_result"
    }
   ],
   "source": [
    "# Displaying the first 10 rows of the DataFrame with few columns\n",
    "df[['overall',\"text\", 'Bing_Liu_Score']].head(10)"
   ]
  },
  {
   "cell_type": "markdown",
   "id": "ca415f34",
   "metadata": {},
   "source": [
    "## Calculating Mean Sentiment Score"
   ]
  },
  {
   "cell_type": "code",
   "execution_count": 17,
   "id": "efb9a7cf",
   "metadata": {},
   "outputs": [
    {
     "data": {
      "text/html": [
       "<div>\n",
       "<style scoped>\n",
       "    .dataframe tbody tr th:only-of-type {\n",
       "        vertical-align: middle;\n",
       "    }\n",
       "\n",
       "    .dataframe tbody tr th {\n",
       "        vertical-align: top;\n",
       "    }\n",
       "\n",
       "    .dataframe thead th {\n",
       "        text-align: right;\n",
       "    }\n",
       "</style>\n",
       "<table border=\"1\" class=\"dataframe\">\n",
       "  <thead>\n",
       "    <tr style=\"text-align: right;\">\n",
       "      <th></th>\n",
       "      <th>Bing_Liu_Score</th>\n",
       "    </tr>\n",
       "    <tr>\n",
       "      <th>overall</th>\n",
       "      <th></th>\n",
       "    </tr>\n",
       "  </thead>\n",
       "  <tbody>\n",
       "    <tr>\n",
       "      <th>1</th>\n",
       "      <td>-0.255049</td>\n",
       "    </tr>\n",
       "    <tr>\n",
       "      <th>2</th>\n",
       "      <td>0.566098</td>\n",
       "    </tr>\n",
       "    <tr>\n",
       "      <th>3</th>\n",
       "      <td>1.158796</td>\n",
       "    </tr>\n",
       "    <tr>\n",
       "      <th>4</th>\n",
       "      <td>2.027999</td>\n",
       "    </tr>\n",
       "    <tr>\n",
       "      <th>5</th>\n",
       "      <td>2.129986</td>\n",
       "    </tr>\n",
       "  </tbody>\n",
       "</table>\n",
       "</div>"
      ],
      "text/plain": [
       "         Bing_Liu_Score\n",
       "overall                \n",
       "1             -0.255049\n",
       "2              0.566098\n",
       "3              1.158796\n",
       "4              2.027999\n",
       "5              2.129986"
      ]
     },
     "execution_count": 17,
     "metadata": {},
     "output_type": "execute_result"
    }
   ],
   "source": [
    "# Grouping 'overall' rating and calculating the mean sentiment score using the Bing Liu Lexicon\n",
    "df.groupby('overall').agg({'Bing_Liu_Score':'mean'})"
   ]
  }
 ],
 "metadata": {
  "kernelspec": {
   "display_name": "Python 3 (ipykernel)",
   "language": "python",
   "name": "python3"
  },
  "language_info": {
   "codemirror_mode": {
    "name": "ipython",
    "version": 3
   },
   "file_extension": ".py",
   "mimetype": "text/x-python",
   "name": "python",
   "nbconvert_exporter": "python",
   "pygments_lexer": "ipython3",
   "version": "3.11.5"
  }
 },
 "nbformat": 4,
 "nbformat_minor": 5
}
